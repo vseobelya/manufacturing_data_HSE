{
 "cells": [
  {
   "cell_type": "code",
   "execution_count": null,
   "id": "b5a290bc",
   "metadata": {},
   "outputs": [],
   "source": [
    "import pandas as pd\n",
    "#import psycopg2\n",
    "import matplotlib.pyplot as plt\n",
    "import plotly.express as px\n",
    "import plotly.graph_objects as go"
   ]
  },
  {
   "cell_type": "code",
   "execution_count": null,
   "id": "574c9c2b",
   "metadata": {},
   "outputs": [],
   "source": [
    "# # Connection parameters, yours will be different\n",
    "# param_dic = {\n",
    "#     \"host\"      : \"localhost\",\n",
    "#     \"database\"  : \"mqtt\",\n",
    "#     \"user\"      : \"postgres\",\n",
    "#     \"password\"  : \"\"\n",
    "# }\n",
    "# def connect(params_dic):\n",
    "#     \"\"\" Connect to the PostgreSQL database server \"\"\"\n",
    "#     conn = None\n",
    "#     try:\n",
    "#         # connect to the PostgreSQL server\n",
    "#         print('Connecting to the PostgreSQL database...')\n",
    "#         conn = psycopg2.connect(**params_dic)\n",
    "#     except (Exception, psycopg2.DatabaseError) as error:\n",
    "#         print(error)\n",
    "#         sys.exit(1) \n",
    "#     print(\"Connection successful\")\n",
    "#     return conn"
   ]
  },
  {
   "cell_type": "code",
   "execution_count": null,
   "id": "79f71a4c",
   "metadata": {},
   "outputs": [],
   "source": [
    "# def postgresql_to_dataframe(conn, select_query):\n",
    "#     \"\"\"\n",
    "#     Tranform a SELECT query into a pandas dataframe\n",
    "#     \"\"\"\n",
    "#     cursor = conn.cursor()\n",
    "#     try:\n",
    "#         cursor.execute(select_query)\n",
    "#     except (Exception, psycopg2.DatabaseError) as error:\n",
    "#         print(\"Error: %s\" % error)\n",
    "#         cursor.close()\n",
    "#         return 1\n",
    "    \n",
    "#     num_fields = len(cursor.description)\n",
    "#     field_names = [i[0] for i in cursor.description]\n",
    "    \n",
    "#     # Naturally we get a list of tupples\n",
    "#     tupples = cursor.fetchall()\n",
    "#     cursor.close()\n",
    "    \n",
    "#     # We just need to turn it into a pandas dataframe\n",
    "#     df = pd.DataFrame(tupples, columns=field_names)\n",
    "# #     df = pd.DataFrame(tupples)\n",
    "#     return df"
   ]
  },
  {
   "cell_type": "code",
   "execution_count": null,
   "id": "4bc9ff0c",
   "metadata": {},
   "outputs": [],
   "source": [
    "# # Connect to the database\n",
    "# conn = connect(param_dic)"
   ]
  },
  {
   "cell_type": "code",
   "execution_count": null,
   "id": "797a1c19",
   "metadata": {},
   "outputs": [],
   "source": [
    "# df_cnc3 = postgresql_to_dataframe(conn, \"select * from cnc_3_2\")"
   ]
  },
  {
   "cell_type": "markdown",
   "id": "3a61c19a",
   "metadata": {},
   "source": [
    "if run on local machine - then reading from postgres db can be used\n",
    "\n",
    "instead - reading from csv file"
   ]
  },
  {
   "cell_type": "code",
   "execution_count": null,
   "id": "cfb61c40",
   "metadata": {},
   "outputs": [],
   "source": [
    "df_cnc3 = pd.read_csv('cnc_3_2_202312191128.csv')"
   ]
  },
  {
   "cell_type": "code",
   "execution_count": null,
   "id": "4726f26c",
   "metadata": {},
   "outputs": [],
   "source": []
  },
  {
   "cell_type": "code",
   "execution_count": null,
   "id": "45fb6cf2",
   "metadata": {},
   "outputs": [],
   "source": []
  },
  {
   "cell_type": "code",
   "execution_count": null,
   "id": "cea76494",
   "metadata": {},
   "outputs": [],
   "source": [
    "df_cnc3.info()"
   ]
  },
  {
   "cell_type": "code",
   "execution_count": null,
   "id": "a6f44723",
   "metadata": {},
   "outputs": [],
   "source": [
    "df_cnc3.isna().sum()"
   ]
  },
  {
   "cell_type": "code",
   "execution_count": null,
   "id": "e8a8a0a5",
   "metadata": {},
   "outputs": [],
   "source": []
  },
  {
   "cell_type": "code",
   "execution_count": null,
   "id": "ef168b19",
   "metadata": {},
   "outputs": [],
   "source": [
    "df_cnc3.head()"
   ]
  },
  {
   "cell_type": "code",
   "execution_count": null,
   "id": "bee89f58",
   "metadata": {},
   "outputs": [],
   "source": [
    "df_cnc3['c1_stat'].unique()"
   ]
  },
  {
   "cell_type": "code",
   "execution_count": null,
   "id": "531084fd",
   "metadata": {},
   "outputs": [],
   "source": [
    "df_cnc3['c1_mode'].unique()"
   ]
  },
  {
   "cell_type": "code",
   "execution_count": null,
   "id": "61a4f064",
   "metadata": {
    "scrolled": true
   },
   "outputs": [],
   "source": [
    "df_cnc3['c1_prog'].unique()"
   ]
  },
  {
   "cell_type": "code",
   "execution_count": null,
   "id": "ad0a9b86",
   "metadata": {},
   "outputs": [],
   "source": []
  },
  {
   "cell_type": "markdown",
   "id": "b80c5e36",
   "metadata": {},
   "source": [
    "# 1.2"
   ]
  },
  {
   "cell_type": "code",
   "execution_count": null,
   "id": "19870155",
   "metadata": {},
   "outputs": [],
   "source": [
    "df_cnc3['time_load'] = pd.to_datetime(df_cnc3['time_load'])"
   ]
  },
  {
   "cell_type": "code",
   "execution_count": null,
   "id": "02ba21de",
   "metadata": {},
   "outputs": [],
   "source": [
    "df_cnc3['time_load_msc'] = df_cnc3['time_load'] + pd.Timedelta(hours=3)"
   ]
  },
  {
   "cell_type": "code",
   "execution_count": null,
   "id": "a461e5bf",
   "metadata": {},
   "outputs": [],
   "source": [
    "df_cnc3=df_cnc3.sort_values(by=['time_load_msc'])"
   ]
  },
  {
   "cell_type": "code",
   "execution_count": null,
   "id": "3ec9379c",
   "metadata": {},
   "outputs": [],
   "source": [
    "df_cnc3['core_work_time_ttl_value'] = pd.to_timedelta(df_cnc3['core_work_time_ttl_value'])"
   ]
  },
  {
   "cell_type": "code",
   "execution_count": null,
   "id": "91bad191",
   "metadata": {},
   "outputs": [],
   "source": [
    "df_cnc3['core_work_time_cur_value'] = pd.to_timedelta(df_cnc3['core_work_time_cur_value'])"
   ]
  },
  {
   "cell_type": "code",
   "execution_count": null,
   "id": "19bdc4d1",
   "metadata": {},
   "outputs": [],
   "source": [
    "df_cnc3['c1_tot_work_time'] = pd.to_timedelta(df_cnc3['c1_tot_work_time'])"
   ]
  },
  {
   "cell_type": "code",
   "execution_count": null,
   "id": "61419e15",
   "metadata": {},
   "outputs": [],
   "source": [
    "df_cnc3['c1_prog_work_time'] = pd.to_timedelta(df_cnc3['c1_prog_work_time'])"
   ]
  },
  {
   "cell_type": "code",
   "execution_count": null,
   "id": "19c823a9",
   "metadata": {
    "scrolled": false
   },
   "outputs": [],
   "source": [
    "# Plotting the time series chart with Plotly Express\n",
    "fig = px.line(df_cnc3, x='time_load_msc', y='c1_tot_work_time', \n",
    "              labels={'c1_tot_work_time':'Channel Total Work Time Value', 'time_load_msc':'Time'},\n",
    "              title='Channel Total Work Time')\n",
    "\n",
    "# Show the plot\n",
    "fig.show()"
   ]
  },
  {
   "cell_type": "code",
   "execution_count": null,
   "id": "551dc8ff",
   "metadata": {},
   "outputs": [],
   "source": []
  },
  {
   "cell_type": "code",
   "execution_count": null,
   "id": "2b47dcb8",
   "metadata": {},
   "outputs": [],
   "source": [
    "# Plotting the time series chart with Plotly Express\n",
    "fig = px.line(df_cnc3, x='time_load_msc', y='core_work_time_cur_value', \n",
    "              labels={'core_work_time_cur_value':'Core Work Time Current Value', 'time_load_msc':'Time'},\n",
    "              title='Core Work Time Current')\n",
    "\n",
    "# Show the plot\n",
    "fig.show()"
   ]
  },
  {
   "cell_type": "code",
   "execution_count": null,
   "id": "df649739",
   "metadata": {},
   "outputs": [],
   "source": [
    "df_cnc3['time_load_msc_next'] = df_cnc3['time_load_msc'].shift(-1)"
   ]
  },
  {
   "cell_type": "code",
   "execution_count": null,
   "id": "af832131",
   "metadata": {},
   "outputs": [],
   "source": [
    "df_cnc3['duration'] = df_cnc3['time_load_msc_next']-df_cnc3['time_load_msc']"
   ]
  },
  {
   "cell_type": "code",
   "execution_count": null,
   "id": "b0c5358b",
   "metadata": {},
   "outputs": [],
   "source": [
    "df_cnc3.groupby(by=['c1_stat'], as_index=False) \\\n",
    "    .agg({'duration':'sum'})"
   ]
  },
  {
   "cell_type": "code",
   "execution_count": null,
   "id": "e58d215e",
   "metadata": {},
   "outputs": [],
   "source": [
    "df_cnc3['duration_percentage'] = df_cnc3['duration'] / df_cnc3['duration'].sum() * 100"
   ]
  },
  {
   "cell_type": "code",
   "execution_count": null,
   "id": "56e2c6d5",
   "metadata": {},
   "outputs": [],
   "source": [
    "df_cnc3_agg_stat = df_cnc3.groupby(by=['c1_stat'], as_index=False) \\\n",
    "    .agg({'duration':'sum'})"
   ]
  },
  {
   "cell_type": "code",
   "execution_count": null,
   "id": "1d01f12a",
   "metadata": {},
   "outputs": [],
   "source": [
    "df_cnc3_agg_stat['duration_ttl'] = df_cnc3_agg_stat['duration'].sum()"
   ]
  },
  {
   "cell_type": "code",
   "execution_count": null,
   "id": "263eeaef",
   "metadata": {},
   "outputs": [],
   "source": [
    "df_cnc3_agg_stat['duration_percent'] = df_cnc3_agg_stat['duration']/df_cnc3_agg_stat['duration_ttl']*100"
   ]
  },
  {
   "cell_type": "code",
   "execution_count": null,
   "id": "855e65ba",
   "metadata": {},
   "outputs": [],
   "source": []
  },
  {
   "cell_type": "code",
   "execution_count": null,
   "id": "2cbd71ce",
   "metadata": {},
   "outputs": [],
   "source": [
    "fig = px.bar(df_cnc3_agg_stat, x='c1_stat', y='duration_percent',\n",
    "             labels={'duration': 'Duration', 'c1_stat': 'c1_stat'},\n",
    "             title='Stacked Bar Chart by c1_stat', barmode = 'stack')\n",
    "\n",
    "# Show the plot\n",
    "fig.show()"
   ]
  },
  {
   "cell_type": "code",
   "execution_count": null,
   "id": "1a35c46f",
   "metadata": {},
   "outputs": [],
   "source": []
  },
  {
   "cell_type": "code",
   "execution_count": null,
   "id": "8affd659",
   "metadata": {
    "scrolled": false
   },
   "outputs": [],
   "source": [
    "# Plotting the scatter plot with states over time\n",
    "fig = px.scatter(df_cnc3, x='time_load_msc', y='c1_stat',\n",
    "                 labels={'c1_stat': 'Status', 'time_load_msc': 'Time'},\n",
    "                 title='Status Over Time')\n",
    "\n",
    "# Show the plot\n",
    "fig.show()"
   ]
  },
  {
   "cell_type": "code",
   "execution_count": null,
   "id": "712c11ca",
   "metadata": {
    "scrolled": false
   },
   "outputs": [],
   "source": [
    "# Plotting the scatter plot with states over time\n",
    "fig = px.scatter(df_cnc3, x='time_load_msc', y='c1_mode',\n",
    "                 labels={'c1_mode': 'Mode', 'time_load_msc': 'Time'},\n",
    "                 title='Mode Over Time')\n",
    "\n",
    "# Show the plot\n",
    "fig.show()"
   ]
  },
  {
   "cell_type": "code",
   "execution_count": null,
   "id": "d150da7b",
   "metadata": {
    "scrolled": true
   },
   "outputs": [],
   "source": [
    "for p in df_cnc3['c1_prog'].unique():\n",
    "    # Plotting the scatter plot with states over time\n",
    "    fig = px.line(df_cnc3[df_cnc3['c1_prog']==p], x='time_load_msc', y='c1_percent_prog',\n",
    "                     labels={'c1_percent_prog': 'Percent programm', 'time_load_msc': 'Time'},\n",
    "                     title=f'Status Over Time: {p}')\n",
    "\n",
    "    # Show the plot\n",
    "    fig.show()"
   ]
  },
  {
   "cell_type": "code",
   "execution_count": null,
   "id": "c4849ced",
   "metadata": {
    "scrolled": true
   },
   "outputs": [],
   "source": [
    "for p in df_cnc3['c1_prog'].unique():\n",
    "    # Plotting the scatter plot with states over time\n",
    "    fig = px.line(df_cnc3[df_cnc3['c1_prog']==p], x='time_load_msc', y='c1_prog_work_time',\n",
    "                     labels={'c1_prog_work_time': 'Program work time', 'time_load_msc': 'Time'},\n",
    "                     title=f'Status Over Time: {p}')\n",
    "\n",
    "    # Show the plot\n",
    "    fig.show()"
   ]
  },
  {
   "cell_type": "code",
   "execution_count": null,
   "id": "93ec4056",
   "metadata": {},
   "outputs": [],
   "source": [
    "df_cnc3['c1_prog'].unique()"
   ]
  },
  {
   "cell_type": "code",
   "execution_count": null,
   "id": "a45aa053",
   "metadata": {},
   "outputs": [],
   "source": [
    "df_cnc3.columns"
   ]
  },
  {
   "cell_type": "markdown",
   "id": "4593cddb",
   "metadata": {},
   "source": [
    "## channel 1 coordinates"
   ]
  },
  {
   "cell_type": "code",
   "execution_count": null,
   "id": "c86093cc",
   "metadata": {
    "scrolled": true
   },
   "outputs": [],
   "source": [
    "for p in df_cnc3['c1_prog'].unique():\n",
    "    fig = go.Figure(data=[go.Scatter3d(\n",
    "        x=df_cnc3[df_cnc3['c1_prog']==p]['axes_c1_x_float'],\n",
    "        y=df_cnc3[df_cnc3['c1_prog']==p]['axes_c1_y_float'],\n",
    "        z=df_cnc3[df_cnc3['c1_prog']==p]['axes_c1_z_float'],\n",
    "        mode='markers',\n",
    "        marker=dict(size=5, color='blue'),\n",
    "    )])\n",
    "    \n",
    "    fig.update_layout(scene=dict(xaxis_title='X Coordinate', yaxis_title='Y Coordinate', zaxis_title='Z Coordinate'),\n",
    "                  title=f'XYZ Coordinates: {p}')\n",
    "\n",
    "    fig.show()"
   ]
  },
  {
   "cell_type": "code",
   "execution_count": null,
   "id": "1951675a",
   "metadata": {},
   "outputs": [],
   "source": [
    "for p in df_cnc3['c1_prog'].unique():\n",
    "    if p == \"/NC/examples/10_02.nc\":\n",
    "        fig = go.Figure(data=[go.Scatter3d(\n",
    "            x=df_cnc3[df_cnc3['c1_prog']==p]['axes_c1_x_float'],\n",
    "            y=df_cnc3[df_cnc3['c1_prog']==p]['axes_c1_y_float'],\n",
    "            z=df_cnc3[df_cnc3['c1_prog']==p]['axes_c1_z_float'],\n",
    "            mode='markers',\n",
    "            marker=dict(size=5, color='blue'),\n",
    "        )])\n",
    "        \n",
    "        fig.update_layout(scene=dict(xaxis_title='X Coordinate', yaxis_title='Y Coordinate', zaxis_title='Z Coordinate'),\n",
    "                      title=f'XYZ Coordinates: {p}')\n",
    "\n",
    "        fig.show()"
   ]
  },
  {
   "cell_type": "code",
   "execution_count": null,
   "id": "f40c776d",
   "metadata": {
    "scrolled": false
   },
   "outputs": [],
   "source": [
    "for p in df_cnc3['c1_prog'].unique():\n",
    "    if p == \"/NC/examples/05_04.nc\":\n",
    "    # Plotting the scatter plot with states over time\n",
    "        fig = px.scatter(df_cnc3[df_cnc3['c1_prog']==p], x='axes_c1_b_float', y='axes_c1_c_float',\n",
    "#                      labels={'c1_prog_work_time': 'Program work time', 'time_load_msc': 'Time'},\n",
    "                     title=f'B C coordinates: {p}')\n",
    "\n",
    "    # Show the plot\n",
    "        fig.show()"
   ]
  },
  {
   "cell_type": "code",
   "execution_count": null,
   "id": "1d2eea0f",
   "metadata": {
    "scrolled": false
   },
   "outputs": [],
   "source": [
    "for p in df_cnc3['c1_prog'].unique():\n",
    "    if p == \"/NC/examples/05_04.nc\":\n",
    "    # Plotting the scatter plot with states over time\n",
    "        fig = px.scatter(df_cnc3[df_cnc3['c1_prog']==p], x='axes_c1_s_float', y='axes_c1_s2_float',\n",
    "#                      labels={'c1_prog_work_time': 'Program work time', 'time_load_msc': 'Time'},\n",
    "                     title=f'S S2 coordinates: {p}')\n",
    "\n",
    "    # Show the plot\n",
    "        fig.show()"
   ]
  },
  {
   "cell_type": "code",
   "execution_count": null,
   "id": "29961d9a",
   "metadata": {},
   "outputs": [],
   "source": []
  },
  {
   "cell_type": "code",
   "execution_count": null,
   "id": "fe316bf1",
   "metadata": {},
   "outputs": [],
   "source": []
  },
  {
   "cell_type": "markdown",
   "id": "d598df0a",
   "metadata": {},
   "source": [
    "## channel 2 coordinates"
   ]
  },
  {
   "cell_type": "code",
   "execution_count": null,
   "id": "eb3283f6",
   "metadata": {
    "scrolled": false
   },
   "outputs": [],
   "source": [
    "for p in df_cnc3['c1_prog'].unique():\n",
    "    if p == \"/NC/examples/05_04.nc\":\n",
    "        fig = go.Figure(data=[go.Scatter3d(\n",
    "        x=df_cnc3[df_cnc3['c1_prog']==p]['axes_c2_x_float'],\n",
    "        y=df_cnc3[df_cnc3['c1_prog']==p]['axes_c2_y_float'],\n",
    "        z=df_cnc3[df_cnc3['c1_prog']==p]['axes_c2_z_float'],\n",
    "        mode='markers',\n",
    "        marker=dict(size=5, color='blue'),\n",
    "    )])\n",
    "    \n",
    "        fig.update_layout(scene=dict(xaxis_title='X Coordinate', yaxis_title='Y Coordinate', zaxis_title='Z Coordinate'),\n",
    "                  title=f'XYZ Coordinates: {p}')\n",
    "\n",
    "        fig.show()"
   ]
  },
  {
   "cell_type": "code",
   "execution_count": null,
   "id": "1166e60f",
   "metadata": {
    "scrolled": false
   },
   "outputs": [],
   "source": [
    "for p in df_cnc3['c1_prog'].unique():\n",
    "     if p == \"/NC/examples/05_04.nc\":\n",
    "    # Plotting the scatter plot with states over time\n",
    "        fig = px.scatter(df_cnc3[df_cnc3['c1_prog']==p], x='axes_c2_b_float', y='axes_c2_c_float',\n",
    "#                      labels={'c1_prog_work_time': 'Program work time', 'time_load_msc': 'Time'},\n",
    "                     title=f'B C coordinates: {p}')\n",
    "\n",
    "    # Show the plot\n",
    "        fig.show()"
   ]
  },
  {
   "cell_type": "code",
   "execution_count": null,
   "id": "3d7ee2c0",
   "metadata": {
    "scrolled": false
   },
   "outputs": [],
   "source": [
    "for p in df_cnc3['c1_prog'].unique():\n",
    "    if p == \"/NC/examples/05_04.nc\":\n",
    "    # Plotting the scatter plot with states over time\n",
    "        fig = px.scatter(df_cnc3[df_cnc3['c1_prog']==p], x='axes_c2_s_float', y='axes_c2_s2_float',\n",
    "#                      labels={'c1_prog_work_time': 'Program work time', 'time_load_msc': 'Time'},\n",
    "                     title=f'S S2 coordinates: {p}')\n",
    "\n",
    "    # Show the plot\n",
    "        fig.show()"
   ]
  },
  {
   "cell_type": "code",
   "execution_count": null,
   "id": "ce3617f6",
   "metadata": {},
   "outputs": [],
   "source": []
  },
  {
   "cell_type": "code",
   "execution_count": null,
   "id": "9fd61812",
   "metadata": {},
   "outputs": [],
   "source": []
  },
  {
   "cell_type": "code",
   "execution_count": null,
   "id": "c2e0f300",
   "metadata": {},
   "outputs": [],
   "source": []
  },
  {
   "cell_type": "markdown",
   "id": "29aec0e3",
   "metadata": {},
   "source": [
    "## channel 3 coordinates"
   ]
  },
  {
   "cell_type": "code",
   "execution_count": null,
   "id": "61062ced",
   "metadata": {
    "scrolled": false
   },
   "outputs": [],
   "source": [
    "for p in df_cnc3['c1_prog'].unique():\n",
    "    if p == \"/NC/examples/05_17.nc\":\n",
    "        fig = go.Figure(data=[go.Scatter3d(\n",
    "        x=df_cnc3[df_cnc3['c1_prog']==p]['axes_c3_x_float'],\n",
    "        y=df_cnc3[df_cnc3['c1_prog']==p]['axes_c3_y_float'],\n",
    "        z=df_cnc3[df_cnc3['c1_prog']==p]['axes_c3_z_float'],\n",
    "        mode='markers',\n",
    "        marker=dict(size=5, color='blue'),\n",
    "    )])\n",
    "    \n",
    "        fig.update_layout(scene=dict(xaxis_title='X Coordinate', yaxis_title='Y Coordinate', zaxis_title='Z Coordinate'),\n",
    "                  title=f'XYZ Coordinates: {p}')\n",
    "\n",
    "        fig.show()"
   ]
  },
  {
   "cell_type": "code",
   "execution_count": null,
   "id": "a909567f",
   "metadata": {
    "scrolled": false
   },
   "outputs": [],
   "source": [
    "for p in df_cnc3['c1_prog'].unique():\n",
    "    if p == \"/NC/examples/05_04.nc\":\n",
    "    # Plotting the scatter plot with states over time\n",
    "        fig = px.scatter(df_cnc3[df_cnc3['c1_prog']==p], x='axes_c3_b_float', y='axes_c3_c_float',\n",
    "#                      labels={'c1_prog_work_time': 'Program work time', 'time_load_msc': 'Time'},\n",
    "                     title=f'B C coordinates: {p}')\n",
    "\n",
    "    # Show the plot\n",
    "        fig.show()"
   ]
  },
  {
   "cell_type": "code",
   "execution_count": null,
   "id": "98d22c2c",
   "metadata": {
    "scrolled": false
   },
   "outputs": [],
   "source": [
    "for p in df_cnc3['c1_prog'].unique():\n",
    "    if p == \"/NC/examples/05_04.nc\":\n",
    "    # Plotting the scatter plot with states over time\n",
    "        fig = px.scatter(df_cnc3[df_cnc3['c1_prog']==p], x='axes_c3_s_float', y='axes_c3_s2_float',\n",
    "#                      labels={'c1_prog_work_time': 'Program work time', 'time_load_msc': 'Time'},\n",
    "                     title=f'S S2 coordinates: {p}')\n",
    "\n",
    "    # Show the plot\n",
    "        fig.show()"
   ]
  },
  {
   "cell_type": "code",
   "execution_count": null,
   "id": "75c24e87",
   "metadata": {},
   "outputs": [],
   "source": []
  },
  {
   "cell_type": "code",
   "execution_count": null,
   "id": "be0daebe",
   "metadata": {},
   "outputs": [],
   "source": []
  },
  {
   "cell_type": "markdown",
   "id": "65bc6946",
   "metadata": {},
   "source": [
    "## channel 4 coordinates"
   ]
  },
  {
   "cell_type": "code",
   "execution_count": null,
   "id": "3b152dc5",
   "metadata": {
    "scrolled": false
   },
   "outputs": [],
   "source": [
    "for p in df_cnc3['c1_prog'].unique():\n",
    "      if p == \"/NC/examples/05_04.nc\":\n",
    "        fig = go.Figure(data=[go.Scatter3d(\n",
    "            x=df_cnc3[df_cnc3['c1_prog']==p]['axes_c4_x_float'],\n",
    "            y=df_cnc3[df_cnc3['c1_prog']==p]['axes_c4_y_float'],\n",
    "            z=df_cnc3[df_cnc3['c1_prog']==p]['axes_c4_z_float'],\n",
    "            mode='markers',\n",
    "            marker=dict(size=5, color='blue'),\n",
    "    )])\n",
    "    \n",
    "        fig.update_layout(scene=dict(xaxis_title='X Coordinate', yaxis_title='Y Coordinate', zaxis_title='Z Coordinate'),\n",
    "                  title=f'XYZ Coordinates: {p}')\n",
    "\n",
    "        fig.show()"
   ]
  },
  {
   "cell_type": "code",
   "execution_count": null,
   "id": "27ec75c0",
   "metadata": {
    "scrolled": true
   },
   "outputs": [],
   "source": [
    "for p in df_cnc3['c1_prog'].unique():\n",
    "    if p == \"/NC/examples/05_17.nc\":\n",
    "    # Plotting the scatter plot with states over time\n",
    "        fig = px.scatter(df_cnc3[df_cnc3['c1_prog']==p], x='axes_c4_b_float', y='axes_c4_c_float',\n",
    "#                      labels={'c1_prog_work_time': 'Program work time', 'time_load_msc': 'Time'},\n",
    "                     title=f'B C coordinates: {p}')\n",
    "\n",
    "    # Show the plot\n",
    "        fig.show()"
   ]
  },
  {
   "cell_type": "code",
   "execution_count": null,
   "id": "1d25701d",
   "metadata": {
    "scrolled": false
   },
   "outputs": [],
   "source": [
    "for p in df_cnc3['c1_prog'].unique():\n",
    "    if p == \"/NC/examples/05_17.nc\":\n",
    "    # Plotting the scatter plot with states over time\n",
    "        fig = px.scatter(df_cnc3[df_cnc3['c1_prog']==p], x='axes_c4_s_float', y='axes_c4_s2_float',\n",
    "#                      labels={'c1_prog_work_time': 'Program work time', 'time_load_msc': 'Time'},\n",
    "                     title=f'S S2 coordinates: {p}')\n",
    "\n",
    "    # Show the plot\n",
    "        fig.show()"
   ]
  },
  {
   "cell_type": "code",
   "execution_count": null,
   "id": "102f5068",
   "metadata": {},
   "outputs": [],
   "source": []
  },
  {
   "cell_type": "code",
   "execution_count": null,
   "id": "2ccd7927",
   "metadata": {},
   "outputs": [],
   "source": []
  },
  {
   "cell_type": "markdown",
   "id": "e7c11c7d",
   "metadata": {},
   "source": [
    "# 3.1"
   ]
  },
  {
   "cell_type": "code",
   "execution_count": null,
   "id": "1431b62b",
   "metadata": {},
   "outputs": [],
   "source": [
    "df_cnc3 = df_cnc3.sort_values(by=['time_load'])"
   ]
  },
  {
   "cell_type": "code",
   "execution_count": null,
   "id": "ff7e0472",
   "metadata": {},
   "outputs": [],
   "source": [
    "df_cnc3.columns"
   ]
  },
  {
   "cell_type": "code",
   "execution_count": null,
   "id": "25d05213",
   "metadata": {},
   "outputs": [],
   "source": [
    "# df_cnc3['time_load_next'] = df_cnc3['time_load'].shift(-1)"
   ]
  },
  {
   "cell_type": "code",
   "execution_count": null,
   "id": "3415d5d9",
   "metadata": {},
   "outputs": [],
   "source": [
    "# df_cnc3['time_load'] = pd.to_datetime(df_cnc3['time_load'])\n",
    "# df_cnc3['time_load_next'] = pd.to_datetime(df_cnc3['time_load_next'])\n",
    "# df_cnc3['duration'] = df_cnc3['time_load_next']-df_cnc3['time_load']"
   ]
  },
  {
   "cell_type": "code",
   "execution_count": null,
   "id": "1037d36a",
   "metadata": {},
   "outputs": [],
   "source": [
    "df_cnc3_stat_agg = df_cnc3.groupby(by=['c1_stat'], as_index=False) \\\n",
    "    .agg({'channel_cnt':'count','duration':'sum'}) \\\n",
    "    .rename(columns={'channel_cnt':'cnt'})"
   ]
  },
  {
   "cell_type": "code",
   "execution_count": null,
   "id": "f5c72e03",
   "metadata": {},
   "outputs": [],
   "source": [
    "df_cnc3_stat_agg"
   ]
  },
  {
   "cell_type": "code",
   "execution_count": null,
   "id": "43b12568",
   "metadata": {},
   "outputs": [],
   "source": [
    "df_cnc3_stat_agg['percentage'] = (df_cnc3_stat_agg['duration'] / df_cnc3_stat_agg['duration'].sum()) * 100"
   ]
  },
  {
   "cell_type": "code",
   "execution_count": null,
   "id": "7141f111",
   "metadata": {},
   "outputs": [],
   "source": [
    "fig = px.pie(df_cnc3_stat_agg, values='percentage', names='c1_stat', \n",
    "             title='Channel 1 states percentage',\n",
    "             hover_data=['percentage'], labels={'percentage':'Percentage'})\n",
    "\n",
    "fig.show()"
   ]
  },
  {
   "cell_type": "code",
   "execution_count": null,
   "id": "d454d681",
   "metadata": {},
   "outputs": [],
   "source": []
  },
  {
   "cell_type": "markdown",
   "id": "c5e7df34",
   "metadata": {},
   "source": [
    "# 3.2"
   ]
  },
  {
   "cell_type": "code",
   "execution_count": null,
   "id": "353b5f0e",
   "metadata": {},
   "outputs": [],
   "source": [
    "df_cnc3_prog_agg = df_cnc3.groupby(by=['c1_prog'], as_index=False) \\\n",
    "    .agg({'channel_cnt':'count','duration':'sum'}) \\\n",
    "    .rename(columns={'channel_cnt':'cnt'})"
   ]
  },
  {
   "cell_type": "code",
   "execution_count": null,
   "id": "08803cec",
   "metadata": {},
   "outputs": [],
   "source": [
    "df_cnc3_prog_agg.sort_values(by=['duration'], ascending=False)"
   ]
  },
  {
   "cell_type": "code",
   "execution_count": null,
   "id": "ddcb52f9",
   "metadata": {},
   "outputs": [],
   "source": [
    "fig = px.bar(df_cnc3_prog_agg.sort_values(by=['duration'], ascending=False), x='c1_prog', y='duration', \n",
    "             title='Bar Chart of c1_prog with Duration',\n",
    "             labels={'duration':'Duration'})\n",
    "\n",
    "# Show the plot\n",
    "fig.show()"
   ]
  },
  {
   "cell_type": "code",
   "execution_count": null,
   "id": "4bbc70e7",
   "metadata": {},
   "outputs": [],
   "source": []
  },
  {
   "cell_type": "code",
   "execution_count": null,
   "id": "8e995f58",
   "metadata": {},
   "outputs": [],
   "source": []
  },
  {
   "cell_type": "markdown",
   "id": "212e13a2",
   "metadata": {},
   "source": [
    "# 3.3"
   ]
  },
  {
   "cell_type": "code",
   "execution_count": null,
   "id": "84d464ae",
   "metadata": {},
   "outputs": [],
   "source": [
    "df_cnc3_mode_agg = df_cnc3.groupby(by=['c1_mode'], as_index=False) \\\n",
    "    .agg({'channel_cnt':'count','duration':'sum'}) \\\n",
    "    .rename(columns={'channel_cnt':'cnt'})"
   ]
  },
  {
   "cell_type": "code",
   "execution_count": null,
   "id": "4b5dac33",
   "metadata": {},
   "outputs": [],
   "source": [
    "df_cnc3_mode_agg['percentage'] = (df_cnc3_mode_agg['cnt'] / df_cnc3_mode_agg['cnt'].sum()) * 100"
   ]
  },
  {
   "cell_type": "code",
   "execution_count": null,
   "id": "40db6b76",
   "metadata": {},
   "outputs": [],
   "source": [
    "fig = px.pie(df_cnc3_mode_agg, values='cnt', names='c1_mode', \n",
    "             title='Channel 1 mode percentage',\n",
    "             hover_data=['percentage'], labels={'percentage':'Percentage'})\n",
    "\n",
    "fig.show()"
   ]
  },
  {
   "cell_type": "code",
   "execution_count": null,
   "id": "ff9e19f3",
   "metadata": {},
   "outputs": [],
   "source": []
  },
  {
   "cell_type": "markdown",
   "id": "9b2644c2",
   "metadata": {},
   "source": [
    "# 3.4"
   ]
  },
  {
   "cell_type": "code",
   "execution_count": null,
   "id": "01257726",
   "metadata": {},
   "outputs": [],
   "source": [
    "# df_cnc3['date'] = df_cnc3['time_load'].dt.date\n",
    "# df_cnc3['time'] = df_cnc3['time_load'].dt.floor('s').dt.time\n",
    "# df_cnc3['hour'] = df_cnc3['time_load'].dt.hour"
   ]
  },
  {
   "cell_type": "code",
   "execution_count": null,
   "id": "3e4a9004",
   "metadata": {},
   "outputs": [],
   "source": [
    "df_cnc3['timestamp'] = df_cnc3['time_load'].dt.floor('s')"
   ]
  },
  {
   "cell_type": "code",
   "execution_count": null,
   "id": "c27723b8",
   "metadata": {},
   "outputs": [],
   "source": [
    "df_cnc3.head()"
   ]
  },
  {
   "cell_type": "code",
   "execution_count": null,
   "id": "4e925257",
   "metadata": {},
   "outputs": [],
   "source": [
    "df_calc_online = df_cnc3.groupby(by=['timestamp'], as_index=False) \\\n",
    "    .agg({'channel_cnt':'count'}) \\\n",
    "    .rename(columns={'channel_cnt':'is_online'})"
   ]
  },
  {
   "cell_type": "code",
   "execution_count": null,
   "id": "1126b150",
   "metadata": {},
   "outputs": [],
   "source": [
    "df_calc_online['timestamp_msc'] = df_calc_online['timestamp'] + pd.Timedelta(hours=3)"
   ]
  },
  {
   "cell_type": "code",
   "execution_count": null,
   "id": "77a7d33b",
   "metadata": {},
   "outputs": [],
   "source": [
    "df_calc_online.set_index('timestamp_msc', inplace=True)"
   ]
  },
  {
   "cell_type": "code",
   "execution_count": null,
   "id": "70d80e30",
   "metadata": {},
   "outputs": [],
   "source": [
    "df_resampled = df_calc_online.resample('S').asfreq(fill_value=0)"
   ]
  },
  {
   "cell_type": "code",
   "execution_count": null,
   "id": "e745b362",
   "metadata": {},
   "outputs": [],
   "source": [
    "df_resampled.reset_index(inplace=True)"
   ]
  },
  {
   "cell_type": "code",
   "execution_count": null,
   "id": "ae9af196",
   "metadata": {},
   "outputs": [],
   "source": [
    "df_resampled['date'] = df_resampled['timestamp_msc'].dt.date"
   ]
  },
  {
   "cell_type": "code",
   "execution_count": null,
   "id": "e1c064cf",
   "metadata": {},
   "outputs": [],
   "source": [
    "df_resampled['duration'] = df_resampled['timestamp_msc'].diff()"
   ]
  },
  {
   "cell_type": "code",
   "execution_count": null,
   "id": "9b482ae5",
   "metadata": {},
   "outputs": [],
   "source": [
    "online_duration = df_resampled[df_resampled['is_online'] == 1]['duration'].sum()\n",
    "offline_duration = df_resampled[df_resampled['is_online'] == 0]['duration'].sum()"
   ]
  },
  {
   "cell_type": "code",
   "execution_count": null,
   "id": "df59caa3",
   "metadata": {},
   "outputs": [],
   "source": [
    "print(f'Total online duration: {online_duration}')\n",
    "print(f'Total offline duration: {offline_duration}')"
   ]
  },
  {
   "cell_type": "code",
   "execution_count": null,
   "id": "28d84591",
   "metadata": {},
   "outputs": [],
   "source": [
    "online_duration_per_day = df_resampled[df_resampled['is_online'] == 1].groupby(df_resampled['timestamp_msc'].dt.date)['duration'].sum()\n",
    "offline_duration_per_day = df_resampled[df_resampled['is_online'] == 0].groupby(df_resampled['timestamp_msc'].dt.date)['duration'].sum()"
   ]
  },
  {
   "cell_type": "code",
   "execution_count": null,
   "id": "f30d6a5b",
   "metadata": {},
   "outputs": [],
   "source": [
    "print('Total online duration per date:')\n",
    "print(online_duration_per_day)\n",
    "\n",
    "print('\\nTotal offline duration per date:')\n",
    "print(offline_duration_per_day)"
   ]
  },
  {
   "cell_type": "code",
   "execution_count": null,
   "id": "e72f7f35",
   "metadata": {},
   "outputs": [],
   "source": []
  },
  {
   "cell_type": "markdown",
   "id": "3773562c",
   "metadata": {},
   "source": [
    "# 3.5"
   ]
  },
  {
   "cell_type": "markdown",
   "id": "0e5c2f79",
   "metadata": {},
   "source": [
    "there were no errors in CNC 3 - thus there is nothing in dataframe"
   ]
  },
  {
   "cell_type": "code",
   "execution_count": null,
   "id": "ad8c729b",
   "metadata": {},
   "outputs": [],
   "source": [
    "# sql = \"\"\"with error_time as\t\n",
    "# (select distinct c1_prog, date_trunc('second', time_load) time_load--* --distinct c1_stat\n",
    "# from cnc_5_2\n",
    "# where 1=1\n",
    "# \tand c1_stat = 'Ошибка'\n",
    "# order by time_load\n",
    "# ), h as\n",
    "# (select hump, date_trunc('second', time_load) time_load\n",
    "# from sensor_hump_2\n",
    "# ), t as\n",
    "# (select temperature, date_trunc('second', time_load) time_load\n",
    "# from sensor_temp_2\n",
    "# )\n",
    "# select *\n",
    "# from error_time\n",
    "# join h using(time_load)\n",
    "# join t using(time_load)\"\"\""
   ]
  },
  {
   "cell_type": "code",
   "execution_count": null,
   "id": "18ca6612",
   "metadata": {},
   "outputs": [],
   "source": [
    "# df_h_t = postgresql_to_dataframe(conn, sql)"
   ]
  },
  {
   "cell_type": "markdown",
   "id": "a69c6a92",
   "metadata": {},
   "source": [
    "if run on local machine - then reading from postgres db can be used\n",
    "\n",
    "instead - reading from csv file - but it is empty"
   ]
  },
  {
   "cell_type": "code",
   "execution_count": null,
   "id": "0c51ba3a",
   "metadata": {},
   "outputs": [],
   "source": [
    "df_h_t = df_h_t.dropna()"
   ]
  },
  {
   "cell_type": "code",
   "execution_count": null,
   "id": "31333623",
   "metadata": {},
   "outputs": [],
   "source": [
    "df_h_t['hump'] = df_h_t.hump.astype(int)"
   ]
  },
  {
   "cell_type": "code",
   "execution_count": null,
   "id": "99be329c",
   "metadata": {},
   "outputs": [],
   "source": [
    "df_h_t['temperature'] = df_h_t.temperature.astype(int)"
   ]
  },
  {
   "cell_type": "code",
   "execution_count": null,
   "id": "a23ce8c9",
   "metadata": {},
   "outputs": [],
   "source": [
    "for p in df_h_t['c1_prog'].unique():\n",
    "    print(f\"Programm: {p}\")\n",
    "    display(df_h_t[df_h_t['c1_prog']==p].describe())"
   ]
  },
  {
   "cell_type": "code",
   "execution_count": null,
   "id": "05aba63e",
   "metadata": {},
   "outputs": [],
   "source": []
  },
  {
   "cell_type": "markdown",
   "id": "88821cbb",
   "metadata": {},
   "source": [
    "# 3.6"
   ]
  },
  {
   "cell_type": "markdown",
   "id": "e4bab8e0",
   "metadata": {},
   "source": [
    "query to find when temperature and humidity were equal\n",
    "\n",
    "there were no such for real mqtt"
   ]
  },
  {
   "cell_type": "code",
   "execution_count": null,
   "id": "786fe4f8",
   "metadata": {},
   "outputs": [],
   "source": [
    "# sql = \"\"\"with h as\n",
    "# (select hump, date_trunc('second', time_load) time_load\n",
    "# from sens_h_2\n",
    "# ), t as\n",
    "# (select temperature, date_trunc('second', time_load) time_load\n",
    "# from sens_t_2\n",
    "# )\n",
    "# select * \n",
    "# from h\n",
    "# join t using(time_load)\n",
    "# where 1=1\n",
    "# \tand hump=temperature\"\"\""
   ]
  },
  {
   "cell_type": "code",
   "execution_count": null,
   "id": "de1ffcf8",
   "metadata": {},
   "outputs": [],
   "source": [
    "# df_sens_h_t = postgresql_to_dataframe(conn, sql)"
   ]
  },
  {
   "cell_type": "code",
   "execution_count": null,
   "id": "0b6a6e39",
   "metadata": {},
   "outputs": [],
   "source": [
    "# df_sens_h_t"
   ]
  },
  {
   "cell_type": "code",
   "execution_count": null,
   "id": "5448f45f",
   "metadata": {},
   "outputs": [],
   "source": []
  },
  {
   "cell_type": "markdown",
   "id": "24a38404",
   "metadata": {},
   "source": [
    "query to find when temperature and humidity were equal"
   ]
  },
  {
   "cell_type": "code",
   "execution_count": null,
   "id": "f409103c",
   "metadata": {},
   "outputs": [],
   "source": [
    "# sql =\"\"\" with h as\n",
    "# (select hump, date_trunc('second', time_load) time_load\n",
    "# from sensor_hump_2\n",
    "# ), t as\n",
    "# (select temperature, date_trunc('second', time_load) time_load\n",
    "# from sensor_temp_2\n",
    "# )\n",
    "# select * \n",
    "# \t, abs(hump-temperature) as diff\n",
    "# from h\n",
    "# join t using(time_load)\n",
    "# where 1=1\n",
    "# \tand hump=temperature\"\"\""
   ]
  },
  {
   "cell_type": "code",
   "execution_count": null,
   "id": "4d089e91",
   "metadata": {},
   "outputs": [],
   "source": [
    "# df_sensor_h_t = postgresql_to_dataframe(conn, sql)"
   ]
  },
  {
   "cell_type": "markdown",
   "id": "cd988b35",
   "metadata": {},
   "source": [
    "if run on local machine - then reading from postgres db can be used\n",
    "\n",
    "instead - reading from csv file"
   ]
  },
  {
   "cell_type": "code",
   "execution_count": null,
   "id": "e851b32f",
   "metadata": {},
   "outputs": [],
   "source": [
    "df_sensor_h_t = pd.read_csv('_with_h_as_select_hump_date_trunc_second_time_load_time_load_fro_202312191205.csv')"
   ]
  },
  {
   "cell_type": "code",
   "execution_count": null,
   "id": "70213a08",
   "metadata": {},
   "outputs": [],
   "source": [
    "df_sensor_h_t"
   ]
  },
  {
   "cell_type": "code",
   "execution_count": null,
   "id": "738bf667",
   "metadata": {},
   "outputs": [],
   "source": []
  }
 ],
 "metadata": {
  "kernelspec": {
   "display_name": "Python 3 (ipykernel)",
   "language": "python",
   "name": "python3"
  },
  "language_info": {
   "codemirror_mode": {
    "name": "ipython",
    "version": 3
   },
   "file_extension": ".py",
   "mimetype": "text/x-python",
   "name": "python",
   "nbconvert_exporter": "python",
   "pygments_lexer": "ipython3",
   "version": "3.9.12"
  }
 },
 "nbformat": 4,
 "nbformat_minor": 5
}
